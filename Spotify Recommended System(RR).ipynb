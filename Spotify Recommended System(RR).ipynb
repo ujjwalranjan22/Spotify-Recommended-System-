{
 "cells": [
  {
   "cell_type": "raw",
   "id": "f4d5c798",
   "metadata": {},
   "source": [
    "Importing Libraries"
   ]
  },
  {
   "cell_type": "code",
   "execution_count": null,
   "id": "f2b50fa7",
   "metadata": {},
   "outputs": [],
   "source": [
    "import os\n",
    "import numpy as np\n",
    "import pandas as pd\n",
    "\n",
    "import seaborn as sns\n",
    "import plotly.express as px \n",
    "import matplotlib.pyplot as plt\n",
    "\n",
    "from sklearn.cluster import KMeans\n",
    "from sklearn.preprocessing import StandardScaler\n",
    "from sklearn.pipeline import Pipeline\n",
    "from sklearn.manifold import TSNE\n",
    "from sklearn.decomposition import PCA\n",
    "from sklearn.metrics import euclidean_distances\n",
    "from scipy.spatial.distance import cdist\n",
    "\n",
    "import spotipy\n",
    "from spotipy.oauth2 import SpotifyClientCredentials \n",
    "from spotipy.oauth2 import SpotifyOAuth"
   ]
  },
  {
   "cell_type": "raw",
   "id": "03db162c",
   "metadata": {},
   "source": [
    "Quick look at the Dataset "
   ]
  },
  {
   "cell_type": "code",
   "execution_count": null,
   "id": "36fa2df1",
   "metadata": {},
   "outputs": [],
   "source": [
    "data = pd.read_csv(\"Ruru/data.csv\")\n",
    "data.head(5)"
   ]
  },
  {
   "cell_type": "code",
   "execution_count": null,
   "id": "480b24a4",
   "metadata": {},
   "outputs": [],
   "source": [
    "genre = pd.read_csv(\"Ruru/data_by_genres.csv\")\n",
    "genre.head(5)"
   ]
  },
  {
   "cell_type": "code",
   "execution_count": null,
   "id": "8d7b3f20",
   "metadata": {},
   "outputs": [],
   "source": [
    "year = pd.read_csv(\"Ruru/data_by_year.csv\")\n",
    "year.head(5)"
   ]
  },
  {
   "cell_type": "code",
   "execution_count": null,
   "id": "2a3406ee",
   "metadata": {},
   "outputs": [],
   "source": [
    "data.info()"
   ]
  },
  {
   "cell_type": "code",
   "execution_count": null,
   "id": "e8a9488e",
   "metadata": {},
   "outputs": [],
   "source": [
    "genre.info()"
   ]
  },
  {
   "cell_type": "code",
   "execution_count": null,
   "id": "69d68ff9",
   "metadata": {},
   "outputs": [],
   "source": [
    "year.info()"
   ]
  },
  {
   "cell_type": "markdown",
   "id": "d28aac21",
   "metadata": {},
   "source": [
    "Visualization of Dataset "
   ]
  },
  {
   "cell_type": "code",
   "execution_count": null,
   "id": "426a6c3b",
   "metadata": {},
   "outputs": [],
   "source": [
    "from yellowbrick.target import FeatureCorrelation\n",
    "\n",
    "feature_names = ['acousticness','energy','danceability','instrumentalness','liveness',\n",
    "                 'loudness','speechiness','tempo','valence','duration_ms','explicit','key','mode','year']\n",
    "X,y = data[feature_names],data['popularity']\n",
    "\n",
    "features = np.array(feature_names)\n",
    "\n",
    "visualizer = FeatureCorrelation(labels=features)\n",
    "\n",
    "plt.rcParams['figure.figsize']=(20,20)\n",
    "visualizer.fit(X,y)\n",
    "visualizer.show()"
   ]
  },
  {
   "cell_type": "code",
   "execution_count": null,
   "id": "0e54d268",
   "metadata": {},
   "outputs": [],
   "source": [
    "def get_decade(year):\n",
    "    period = int(year/10)*10\n",
    "    decade = '{}s'.format(period)\n",
    "    return decade\n",
    "data['decade'] = data['year'].apply(get_decade)\n",
    "\n",
    "sns.set(rc={'figure.figsize':(11,6)})\n",
    "sns.countplot(x='decade',data=data)\n",
    "plt.show()"
   ]
  },
  {
   "cell_type": "code",
   "execution_count": null,
   "id": "87137a2b",
   "metadata": {},
   "outputs": [],
   "source": [
    "sound_features = ['acousticness','danceability','energy','instrumentalness','liveness','valence']\n",
    "fig=px.line(year,x='year',y=sound_features)\n",
    "fig.show()"
   ]
  },
  {
   "cell_type": "code",
   "execution_count": null,
   "id": "a35fa167",
   "metadata": {},
   "outputs": [],
   "source": [
    "top_genres = genre.nlargest(10, 'popularity')\n",
    "\n",
    "fig=px.bar(top_genres,x='genres',y=['valence','energy','danceability','acousticness'],barmode='group')\n",
    "fig.show()"
   ]
  },
  {
   "cell_type": "raw",
   "id": "72b97ebf",
   "metadata": {},
   "source": [
    "Importing KMeans Libraries"
   ]
  },
  {
   "cell_type": "code",
   "execution_count": null,
   "id": "244958ec",
   "metadata": {},
   "outputs": [],
   "source": [
    "from sklearn.cluster import KMeans\n",
    "from sklearn.preprocessing import StandardScaler\n",
    "from sklearn.pipeline import Pipeline \n",
    "\n",
    "cluster_pipeline = Pipeline([('scaler', StandardScaler()),('kmeans',KMeans(n_clusters=10,random_state=42,n_init='auto',algorithm='elkan'))])\n",
    "X = genre.select_dtypes(np.number)\n",
    "cluster_pipeline.fit(X)\n",
    "genre['cluster'] = cluster_pipeline.predict(X) "
   ]
  },
  {
   "cell_type": "code",
   "execution_count": null,
   "id": "45e0aed2",
   "metadata": {},
   "outputs": [],
   "source": [
    "Visualization of the Data using Kmean"
   ]
  },
  {
   "cell_type": "code",
   "execution_count": null,
   "id": "c3eeaeca",
   "metadata": {},
   "outputs": [],
   "source": [
    "from sklearn.manifold import TSNE\n",
    "\n",
    "tsne_pipeline = Pipeline([('scaler', StandardScaler()),('tsne', TSNE(n_components=2, verbose=1))])\n",
    "genre_embedding = tsne_pipeline.fit_transform(X)\n",
    "projection = pd.DataFrame(columns=['x','y'], data=genre_embedding)\n",
    "projection['genres'] = genre['genres']\n",
    "projection['cluster'] = genre['cluster']\n",
    "\n",
    "fig = px.scatter(projection, x='x',y='y', color = 'cluster', hover_data=['x','y','genres'])\n",
    "fig.show()"
   ]
  },
  {
   "cell_type": "code",
   "execution_count": null,
   "id": "abac3775",
   "metadata": {},
   "outputs": [],
   "source": [
    "cluster_pipeline = Pipeline([('scaler', StandardScaler()), ('kmeans', KMeans(n_clusters=20, verbose=False, n_init=10))],verbose=False)\n",
    "X = data.select_dtypes(include=np.number)\n",
    "number_cols = list(X.columns)\n",
    "cluster_pipeline.fit(X)\n",
    "cluster_labels=cluster_pipeline.predict(X)\n",
    "data['cluster_label'] = cluster_labels"
   ]
  },
  {
   "cell_type": "code",
   "execution_count": null,
   "id": "d03da286",
   "metadata": {
    "scrolled": true
   },
   "outputs": [],
   "source": [
    "from sklearn.decomposition import PCA\n",
    "\n",
    "pca_pipeline = Pipeline([\n",
    "    ('scaler', StandardScaler()), \n",
    "    ('pca', PCA(n_components=2))])\n",
    "song_embedding= pca_pipeline.fit_transform(X)\n",
    "projection = pd.DataFrame(columns=['x','y'], data = song_embedding)\n",
    "projection['title'] = data['name']\n",
    "projection['cluster'] = data['cluster_label']\n",
    "\n",
    "fig = px.scatter(projection, x='x',y='y', color='cluster', hover_data=['x','y','title'])\n",
    "fig.show()"
   ]
  },
  {
   "cell_type": "code",
   "execution_count": null,
   "id": "21e0b729",
   "metadata": {},
   "outputs": [],
   "source": [
    "pip install python-dotenv"
   ]
  },
  {
   "cell_type": "raw",
   "id": "7c309e8b",
   "metadata": {},
   "source": [
    "importing Spotify API and Writing function for music recommendation "
   ]
  },
  {
   "cell_type": "code",
   "execution_count": null,
   "id": "eb2bb473",
   "metadata": {},
   "outputs": [],
   "source": [
    "import spotipy\n",
    "from dotenv import load_dotenv\n",
    "from spotipy.oauth2 import SpotifyClientCredentials\n",
    "from collections import defaultdict\n",
    "\n",
    "load_dotenv()\n",
    "\n",
    "sp = spotipy.Spotify(auth_manager=SpotifyClientCredentials(\n",
    "    client_id=os.environ[\"SPOTIFY_CLIENT_ID\"],\n",
    "    client_secret=os.environ[\"SPOTIFY_CLIENT_SECRET\"]))\n",
    "    \n",
    "def find_music(name):\n",
    "    music_data=defualtdict()\n",
    "    redult=sp.search(q = 'track: {}'.format(name),limit=1)\n",
    "    if  results['tracks']['items']==[]:\n",
    "        return None\n",
    "    results = results['items']['tracks'][0]\n",
    "    track_id = results['id']\n",
    "    audio_features = sp.audio_features(track_id)[0]\n",
    "    \n",
    "    music_data['name']=[name]\n",
    "    #music_data['year']=[year]\n",
    "    music_data['explicit']=[int(results['explicit'])]\n",
    "    music_data['duration_ms']=[results['duration_ms']]\n",
    "    music_data['popularity']=[results['popularity']]\n",
    "    \n",
    "    for key, value in audio_features.items():\n",
    "        music_data[key]=value\n",
    "    \n",
    "    \n",
    "    return pd.DataFrame(music_data)"
   ]
  },
  {
   "cell_type": "code",
   "execution_count": null,
   "id": "13edf471",
   "metadata": {},
   "outputs": [],
   "source": [
    "from collections import defaultdict\n",
    "from sklearn.metrics.pairwise import euclidean_distances \n",
    "from scipy.spatial.distance import cdist\n",
    "import difflib\n",
    "\n",
    "number_cols = ['valence','year','acousticness','danceability','duration_ms','energy','explicit','instrumentalness','key','liveness','loudness','mode','popularity','speechiness','tempo']\n",
    "\n",
    "def get_music(song,spotify_data):\n",
    "    try:\n",
    "        music_data = spotify_data[(spotify_data['name'] == song['name'])\n",
    "                                 &(spotify_data['year'] == song['year'])].iloc[0]\n",
    "        return music_data\n",
    "                                  \n",
    "    except IndexError:\n",
    "        return find_song(song['name'],song['year'])\n",
    "\n",
    "def mean_vector(song_list,spotify_data):\n",
    "    \n",
    "    song_vectors =  []\n",
    "            \n",
    "    for song in song_list:\n",
    "        music_data = get_music(song,spotify_data)\n",
    "        if music_data is None:\n",
    "           print('Warning : {} does Not exit in Spotify or database'.format(song['name']))\n",
    "           continue \n",
    "        music_vector =  music_data[number_cols].values\n",
    "        music_vector.append(music_vector)\n",
    "    \n",
    "    music_matrix = np.array(list(music_vectors))\n",
    "    return np.mean(music_matrix, axis=0)"
   ]
  },
  {
   "cell_type": "code",
   "execution_count": null,
   "id": "82728407",
   "metadata": {},
   "outputs": [],
   "source": [
    "def flatten_dict_list(dict_list):\n",
    "    flattened_dict = defaultdict(list)\n",
    "    for dictionary in dict_list:\n",
    "        for key, value in dictionary.items():\n",
    "            flattened_dict[key].append(value)\n",
    "    return flattened_dict\n",
    "\n",
    "def mean_vector(song_list, spotify_data):\n",
    "    music_vectors = []\n",
    "    for song in song_list:\n",
    "        music_data = spotify_data[(spotify_data['name'].str.lower() == song['name'].lower())]\n",
    "        if music_data.empty:\n",
    "            continue\n",
    "        music_vector = music_data[number_cols].values[0]  # Extract feature vector\n",
    "        music_vectors.append(music_vector)\n",
    "    music_matrix = np.array(music_vectors)\n",
    "    return np.mean(music_matrix, axis=0)\n",
    "\n",
    "\n",
    "\n",
    "def recommend_music(spotify_data, song_title=None, artist=None, year=None, genre=None, n_songs=10):\n",
    "    \n",
    "    filtered_data = spotify_data.copy()\n",
    "\n",
    "    if song_title and isinstance(song_title, str):\n",
    "        filtered_data = filtered_data[filtered_data['name'].str.lower() == song_title.lower()]\n",
    "\n",
    "    if artist and isinstance(artist, str):\n",
    "        filtered_data = filtered_data[filtered_data['artists'].apply(lambda x: artist.lower() in [a.lower() for a in eval(x)])]\n",
    "\n",
    "    if year and isinstance(year, int):\n",
    "        filtered_data = filtered_data[filtered_data['year'] == year]\n",
    "\n",
    "    if genre and isinstance(genre, str) and 'genre' in filtered_data.columns:\n",
    "        filtered_data = filtered_data[filtered_data['genre'].str.lower() == genre.lower()]\n",
    "\n",
    "    if filtered_data.empty:\n",
    "        return []\n",
    "\n",
    "    # Select only the numeric features used during training\n",
    "    numeric_features = filtered_data[number_cols]  # Assuming `number_cols` is a list of features used during fitting\n",
    "\n",
    "    scaler = cluster_pipeline.steps[0][1]  # Assuming scaler is from your pipeline\n",
    "    scaled_data = scaler.transform(numeric_features)\n",
    "    cluster_labels = cluster_pipeline.steps[1][1].predict(scaled_data)\n",
    "\n",
    "    recommendations = filtered_data.copy()\n",
    "    recommendations['cluster'] = cluster_labels\n",
    "    chosen_cluster = cluster_labels[0]  # Choose the cluster of the first match\n",
    "\n",
    "    recommendations = recommendations[recommendations['cluster'] == chosen_cluster]\n",
    "\n",
    "    recommendations = recommendations.sort_values('popularity', ascending=False).head(n_songs)\n",
    "\n",
    "    columns_to_return = ['name', 'artists', 'year', 'popularity']\n",
    "    if 'genre' in recommendations.columns:\n",
    "        columns_to_return.append('genre')\n",
    "\n",
    "    return recommendations[columns_to_return].to_dict(orient='records')\n"
   ]
  },
  {
   "cell_type": "raw",
   "id": "ed6b77a6",
   "metadata": {},
   "source": [
    "Importing HTML and Display for final recommendation of music"
   ]
  },
  {
   "cell_type": "code",
   "execution_count": null,
   "id": "23ed8014",
   "metadata": {},
   "outputs": [],
   "source": [
    "from IPython.display import display, HTML\n",
    "\n",
    "def display_recommendations(recommendations):\n",
    "    html_content = \"\"\"\n",
    "    <div style=\"background-color:#191414; color: white; padding: 20px; font-family: 'Arial', sans-serif; border-radius: 10px;\">\n",
    "        <h2 style=\"text-align: center; color: #1DB954;\">Spotify Song Recommendations</h2>\n",
    "        <ul style=\"list-style-type: none; padding: 0;\">\n",
    "    \"\"\"\n",
    "    for song in recommendations:\n",
    "        html_content += f\"\"\"\n",
    "        <li style='margin: 10px 0; padding: 15px; background-color: #282828; border-radius: 8px; display: flex; align-items: center;'>\n",
    "            <div style='flex-grow: 1;'>\n",
    "                <strong style='font-size: 18px;'>{song['name']}</strong> \n",
    "                <span style='color: #b3b3b3;'>by {song['artists']}</span>\n",
    "            </div>\n",
    "            <div style='text-align: right;'>\n",
    "                <span style='color: #1DB954; font-size: 12px;'>Spotify</span>\n",
    "            </div>\n",
    "        </li>\n",
    "        \"\"\"\n",
    "    html_content += \"</ul></div>\"\n",
    "\n",
    "    \n",
    "    display(HTML(html_content))\n",
    "\n",
    "\n",
    "recommended_songs = recommend_music(data, song_title='', artist='eminem')#(,year=) \n",
    "display_recommendations(recommended_songs)"
   ]
  },
  {
   "cell_type": "code",
   "execution_count": null,
   "id": "fc9df784",
   "metadata": {},
   "outputs": [],
   "source": []
  }
 ],
 "metadata": {
  "kernelspec": {
   "display_name": "Python 3 (ipykernel)",
   "language": "python",
   "name": "python3"
  },
  "language_info": {
   "codemirror_mode": {
    "name": "ipython",
    "version": 3
   },
   "file_extension": ".py",
   "mimetype": "text/x-python",
   "name": "python",
   "nbconvert_exporter": "python",
   "pygments_lexer": "ipython3",
   "version": "3.11.5"
  }
 },
 "nbformat": 4,
 "nbformat_minor": 5
}
